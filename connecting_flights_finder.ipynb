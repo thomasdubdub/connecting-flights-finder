{
 "cells": [
  {
   "cell_type": "markdown",
   "metadata": {},
   "source": [
    "# Find all flights from one airport to another from historical traffic data"
   ]
  },
  {
   "cell_type": "markdown",
   "metadata": {},
   "source": [
    "#### Between two European airports, with max one connection, with the same company and an acceptable connecting time"
   ]
  },
  {
   "cell_type": "code",
   "execution_count": 1,
   "metadata": {},
   "outputs": [],
   "source": [
    "import pandas as pd\n",
    "from datetime import datetime, timedelta"
   ]
  },
  {
   "cell_type": "markdown",
   "metadata": {},
   "source": [
    "#### <br> Example with a trip from Toulouse, France (LFBO) to Vienna, Austria (LOWW) mid-June"
   ]
  },
  {
   "cell_type": "code",
   "execution_count": 2,
   "metadata": {},
   "outputs": [],
   "source": [
    "from_airport = 'LFBO'\n",
    "to_airport = 'LOWW'\n",
    "min_connecting_time = 1 # in hour\n",
    "max_connecting_time = 2 # in hour"
   ]
  },
  {
   "cell_type": "markdown",
   "metadata": {},
   "source": [
    "#### <br> Load airports and airlines table from openflights.org"
   ]
  },
  {
   "cell_type": "code",
   "execution_count": 3,
   "metadata": {},
   "outputs": [],
   "source": [
    "airports_url = 'https://raw.githubusercontent.com/jpatokal/openflights/master/data/airports.dat'\n",
    "airlines_url = 'https://raw.githubusercontent.com/jpatokal/openflights/master/data/airlines.dat'\n",
    "\n",
    "airports_df = pd.read_csv(airports_url, header=None, names=['id', 'name', 'city', 'country', 'iata',\n",
    "                                                            'icao', 'lat', 'lon', 'alt', 'timezone',\n",
    "                                                            'dst', 'tz', 'type', 'source'])\n",
    "airlines_df = pd.read_csv(airlines_url, header=None, names=['id', 'name', 'alias', 'iata', 'icao',\n",
    "                                                           'callsign', 'country', 'active'])"
   ]
  },
  {
   "cell_type": "code",
   "execution_count": 4,
   "metadata": {},
   "outputs": [],
   "source": [
    "def get_city(airport_icao):\n",
    "    ans = airport_icao\n",
    "    if not airports_df.query('icao == @airport_icao').empty:\n",
    "        df = airports_df.query('icao == @airport_icao')\n",
    "        ans = df.city.item() + \"-\" + df.name.item()\n",
    "    return ans"
   ]
  },
  {
   "cell_type": "code",
   "execution_count": 5,
   "metadata": {},
   "outputs": [],
   "source": [
    "def get_airline(airline_icao):\n",
    "    ans = airline_icao\n",
    "    if not airlines_df.query('icao == @airline_icao').empty:\n",
    "        ans = airlines_df.query('icao == @airline_icao').name.item()\n",
    "    return ans"
   ]
  },
  {
   "cell_type": "markdown",
   "metadata": {},
   "source": [
    "#### <br> Load the so6 reference traffic file (e.g. one year before) as a pandas dataframe"
   ]
  },
  {
   "cell_type": "code",
   "execution_count": 6,
   "metadata": {},
   "outputs": [
    {
     "data": {
      "text/html": [
       "<div>\n",
       "<style scoped>\n",
       "    .dataframe tbody tr th:only-of-type {\n",
       "        vertical-align: middle;\n",
       "    }\n",
       "\n",
       "    .dataframe tbody tr th {\n",
       "        vertical-align: top;\n",
       "    }\n",
       "\n",
       "    .dataframe thead th {\n",
       "        text-align: right;\n",
       "    }\n",
       "</style>\n",
       "<table border=\"1\" class=\"dataframe\">\n",
       "  <thead>\n",
       "    <tr style=\"text-align: right;\">\n",
       "      <th></th>\n",
       "      <th>callsign</th>\n",
       "      <th>datetime_begin</th>\n",
       "      <th>datetime_end</th>\n",
       "      <th>flight_origin</th>\n",
       "      <th>flight_destination</th>\n",
       "      <th>fl_begin</th>\n",
       "      <th>fl_end</th>\n",
       "      <th>lat_begin</th>\n",
       "      <th>lat_end</th>\n",
       "      <th>lon_begin</th>\n",
       "      <th>lon_end</th>\n",
       "      <th>aircraft_type</th>\n",
       "      <th>length</th>\n",
       "      <th>flight_identifier</th>\n",
       "    </tr>\n",
       "  </thead>\n",
       "  <tbody>\n",
       "    <tr>\n",
       "      <th>1</th>\n",
       "      <td>BHL741</td>\n",
       "      <td>2018-06-17 13:10:00</td>\n",
       "      <td>2018-06-17 13:24:29</td>\n",
       "      <td>ZZZZ</td>\n",
       "      <td>ZZZZ</td>\n",
       "      <td>30</td>\n",
       "      <td>30</td>\n",
       "      <td>60.883333</td>\n",
       "      <td>60.533333</td>\n",
       "      <td>3.500000</td>\n",
       "      <td>2.716667</td>\n",
       "      <td>S92</td>\n",
       "      <td>31.140762</td>\n",
       "      <td>219700570</td>\n",
       "    </tr>\n",
       "    <tr>\n",
       "      <th>2</th>\n",
       "      <td>THY3EW</td>\n",
       "      <td>2018-06-17 01:23:00</td>\n",
       "      <td>2018-06-17 01:23:10</td>\n",
       "      <td>UUWW</td>\n",
       "      <td>LTAI</td>\n",
       "      <td>7</td>\n",
       "      <td>10</td>\n",
       "      <td>55.599167</td>\n",
       "      <td>55.590833</td>\n",
       "      <td>37.273056</td>\n",
       "      <td>37.266944</td>\n",
       "      <td>A332</td>\n",
       "      <td>0.541224</td>\n",
       "      <td>219683605</td>\n",
       "    </tr>\n",
       "    <tr>\n",
       "      <th>3</th>\n",
       "      <td>THY3EW</td>\n",
       "      <td>2018-06-17 01:23:10</td>\n",
       "      <td>2018-06-17 01:23:56</td>\n",
       "      <td>UUWW</td>\n",
       "      <td>LTAI</td>\n",
       "      <td>10</td>\n",
       "      <td>25</td>\n",
       "      <td>55.590833</td>\n",
       "      <td>55.565833</td>\n",
       "      <td>37.266944</td>\n",
       "      <td>37.249167</td>\n",
       "      <td>A332</td>\n",
       "      <td>1.616653</td>\n",
       "      <td>219683605</td>\n",
       "    </tr>\n",
       "    <tr>\n",
       "      <th>4</th>\n",
       "      <td>THY3EW</td>\n",
       "      <td>2018-06-17 01:23:56</td>\n",
       "      <td>2018-06-17 01:25:43</td>\n",
       "      <td>UUWW</td>\n",
       "      <td>LTAI</td>\n",
       "      <td>25</td>\n",
       "      <td>70</td>\n",
       "      <td>55.565833</td>\n",
       "      <td>55.466111</td>\n",
       "      <td>37.249167</td>\n",
       "      <td>37.177500</td>\n",
       "      <td>A332</td>\n",
       "      <td>6.459670</td>\n",
       "      <td>219683605</td>\n",
       "    </tr>\n",
       "    <tr>\n",
       "      <th>5</th>\n",
       "      <td>THY3EW</td>\n",
       "      <td>2018-06-17 01:25:43</td>\n",
       "      <td>2018-06-17 01:26:29</td>\n",
       "      <td>UUWW</td>\n",
       "      <td>LTAI</td>\n",
       "      <td>70</td>\n",
       "      <td>90</td>\n",
       "      <td>55.466111</td>\n",
       "      <td>55.416111</td>\n",
       "      <td>37.177500</td>\n",
       "      <td>37.141667</td>\n",
       "      <td>A332</td>\n",
       "      <td>3.238427</td>\n",
       "      <td>219683605</td>\n",
       "    </tr>\n",
       "  </tbody>\n",
       "</table>\n",
       "</div>"
      ],
      "text/plain": [
       "  callsign      datetime_begin        datetime_end flight_origin  \\\n",
       "1   BHL741 2018-06-17 13:10:00 2018-06-17 13:24:29          ZZZZ   \n",
       "2   THY3EW 2018-06-17 01:23:00 2018-06-17 01:23:10          UUWW   \n",
       "3   THY3EW 2018-06-17 01:23:10 2018-06-17 01:23:56          UUWW   \n",
       "4   THY3EW 2018-06-17 01:23:56 2018-06-17 01:25:43          UUWW   \n",
       "5   THY3EW 2018-06-17 01:25:43 2018-06-17 01:26:29          UUWW   \n",
       "\n",
       "  flight_destination  fl_begin  fl_end  lat_begin    lat_end  lon_begin  \\\n",
       "1               ZZZZ        30      30  60.883333  60.533333   3.500000   \n",
       "2               LTAI         7      10  55.599167  55.590833  37.273056   \n",
       "3               LTAI        10      25  55.590833  55.565833  37.266944   \n",
       "4               LTAI        25      70  55.565833  55.466111  37.249167   \n",
       "5               LTAI        70      90  55.466111  55.416111  37.177500   \n",
       "\n",
       "     lon_end aircraft_type     length  flight_identifier  \n",
       "1   2.716667           S92  31.140762          219700570  \n",
       "2  37.266944          A332   0.541224          219683605  \n",
       "3  37.249167          A332   1.616653          219683605  \n",
       "4  37.177500          A332   6.459670          219683605  \n",
       "5  37.141667          A332   3.238427          219683605  "
      ]
     },
     "execution_count": 6,
     "metadata": {},
     "output_type": "execute_result"
    }
   ],
   "source": [
    "my_so6_traffic_file = '20180617_m3.so6'\n",
    "columns = ['segment_identifier', 'flight_origin', 'flight_destination', 'aircraft_type', 'time_begin',\n",
    "           'time_end', 'fl_begin', 'fl_end', 'status', 'callsign', 'date_begin', 'date_end', 'lat_begin',\n",
    "           'lon_begin', 'lat_end', 'lon_end', 'flight_identifier', 'sequence', 'length', 'parity']\n",
    "\n",
    "parser = lambda x,y: pd.datetime.strptime(x + y, '%y%m%d%H%M%S')\n",
    "\n",
    "df = pd.read_csv(my_so6_traffic_file, sep=' ', header=None, names=columns, \n",
    "                 parse_dates={'datetime_begin': ['date_begin','time_begin'], \n",
    "                              'datetime_end': ['date_end','time_end']}, date_parser=parser)\n",
    "\n",
    "coord_cols = ['lat_begin','lon_begin','lat_end','lon_end']\n",
    "df[coord_cols] = df[coord_cols].apply(lambda x: x / 60)\n",
    "\n",
    "traffic_df = df[['callsign','datetime_begin','datetime_end','flight_origin','flight_destination',\n",
    "                'fl_begin', 'fl_end', 'lat_begin', 'lat_end', 'lon_begin', 'lon_end', \n",
    "                 'aircraft_type','length','flight_identifier']]\n",
    "traffic_df = traffic_df.query('length > 0') # filter null segments\n",
    "traffic_df.head()"
   ]
  },
  {
   "cell_type": "code",
   "execution_count": 7,
   "metadata": {},
   "outputs": [
    {
     "name": "stdout",
     "output_type": "stream",
     "text": [
      "34633 flights in so6 traffic file\n"
     ]
    }
   ],
   "source": [
    "groups = traffic_df.groupby('flight_identifier') # callsign is not unique\n",
    "print(\"{} flights in so6 traffic file\".format(len(groups)))"
   ]
  },
  {
   "cell_type": "markdown",
   "metadata": {},
   "source": [
    "#### <br> Identify direct flights (if any)"
   ]
  },
  {
   "cell_type": "code",
   "execution_count": 8,
   "metadata": {},
   "outputs": [
    {
     "data": {
      "text/html": [
       "<div>\n",
       "<style scoped>\n",
       "    .dataframe tbody tr th:only-of-type {\n",
       "        vertical-align: middle;\n",
       "    }\n",
       "\n",
       "    .dataframe tbody tr th {\n",
       "        vertical-align: top;\n",
       "    }\n",
       "\n",
       "    .dataframe thead th {\n",
       "        text-align: right;\n",
       "    }\n",
       "</style>\n",
       "<table border=\"1\" class=\"dataframe\">\n",
       "  <thead>\n",
       "    <tr style=\"text-align: right;\">\n",
       "      <th></th>\n",
       "      <th>callsign</th>\n",
       "      <th>datetime_begin</th>\n",
       "      <th>datetime_end</th>\n",
       "      <th>flight_origin</th>\n",
       "      <th>flight_destination</th>\n",
       "      <th>fl_begin</th>\n",
       "      <th>fl_end</th>\n",
       "      <th>lat_begin</th>\n",
       "      <th>lat_end</th>\n",
       "      <th>lon_begin</th>\n",
       "      <th>lon_end</th>\n",
       "      <th>aircraft_type</th>\n",
       "      <th>length</th>\n",
       "    </tr>\n",
       "    <tr>\n",
       "      <th>flight_identifier</th>\n",
       "      <th></th>\n",
       "      <th></th>\n",
       "      <th></th>\n",
       "      <th></th>\n",
       "      <th></th>\n",
       "      <th></th>\n",
       "      <th></th>\n",
       "      <th></th>\n",
       "      <th></th>\n",
       "      <th></th>\n",
       "      <th></th>\n",
       "      <th></th>\n",
       "      <th></th>\n",
       "    </tr>\n",
       "  </thead>\n",
       "  <tbody>\n",
       "  </tbody>\n",
       "</table>\n",
       "</div>"
      ],
      "text/plain": [
       "Empty DataFrame\n",
       "Columns: [callsign, datetime_begin, datetime_end, flight_origin, flight_destination, fl_begin, fl_end, lat_begin, lat_end, lon_begin, lon_end, aircraft_type, length]\n",
       "Index: []"
      ]
     },
     "execution_count": 8,
     "metadata": {},
     "output_type": "execute_result"
    }
   ],
   "source": [
    "groups.first().query('flight_origin==@from_airport and flight_destination==@to_airport')"
   ]
  },
  {
   "cell_type": "markdown",
   "metadata": {},
   "source": [
    "#### <br> Flights with one connection"
   ]
  },
  {
   "cell_type": "code",
   "execution_count": 9,
   "metadata": {},
   "outputs": [],
   "source": [
    "first_df = groups.last().query('flight_origin==\"LFBO\"')\n",
    "destination_airports = first_df['flight_destination'].unique()\n",
    "df_list = []\n",
    "for airport in destination_airports:\n",
    "    df_list.append(groups.first().query('flight_origin==@airport and flight_destination==@to_airport'))\n",
    "second_df = pd.concat(df_list)"
   ]
  },
  {
   "cell_type": "code",
   "execution_count": 10,
   "metadata": {},
   "outputs": [
    {
     "name": "stdout",
     "output_type": "stream",
     "text": [
      "Connecting airports:\n",
      "\n",
      "-> Berlin-Berlin-Schönefeld Airport ( 0 days 01:28:28 )  with airline: easyJet\n",
      "\n",
      "-> London-London Heathrow Airport ( 0 days 01:27:30 )  with airline: British Airways\n",
      "\n",
      "-> Munich-Munich Airport ( 0 days 01:28:48 )  with airline: Lufthansa\n",
      "\n",
      "-> Paris-Charles de Gaulle International Airport ( 0 days 01:12:05 )  with airline: Air France\n",
      "\n",
      "-> Amsterdam-Amsterdam Airport Schiphol ( 0 days 01:40:43 )  with airline: KLM Royal Dutch Airlines\n",
      "\n",
      "-> London-London Gatwick Airport ( 0 days 01:34:49 )  with airline: easyJet\n",
      "\n",
      "-> London-London Heathrow Airport ( 0 days 01:26:02 )  with airline: British Airways\n",
      "\n",
      "-> Frankfurt-Frankfurt am Main Airport ( 0 days 01:52:17 )  with airline: Lufthansa\n",
      "\n"
     ]
    }
   ],
   "source": [
    "print('Connecting airports:\\n')\n",
    "connecting_airports = set()\n",
    "for _, row1 in first_df.iterrows():\n",
    "    for _, row2 in second_df.iterrows():\n",
    "        if row1['flight_destination'] == row2['flight_origin']:\n",
    "            if row2['datetime_begin'] > row1['datetime_end'] + timedelta(hours=min_connecting_time):\n",
    "                if (row2['datetime_begin'] - row1['datetime_end']).total_seconds() < max_connecting_time * 3600:\n",
    "                    airline1, airline2 = (row1['callsign'][0:3], row2['callsign'][0:3])\n",
    "                    if airline1 == airline2:\n",
    "                        print('-> ' + get_city(row1['flight_destination']), \"(\", row2['datetime_begin'] - row1['datetime_end'], \")\",\n",
    "                          \" with airline:\", get_airline(row1['callsign'][0:3]) + '\\n')\n",
    "                        connecting_airports.add(row1['flight_destination'])"
   ]
  },
  {
   "cell_type": "code",
   "execution_count": 12,
   "metadata": {},
   "outputs": [
    {
     "name": "stdout",
     "output_type": "stream",
     "text": [
      "7 connecting cities found: \n",
      "['Munich-Munich Airport', 'London-London Heathrow Airport', 'London-London Gatwick Airport', 'Amsterdam-Amsterdam Airport Schiphol', 'Paris-Charles de Gaulle International Airport', 'Frankfurt-Frankfurt am Main Airport', 'Berlin-Berlin-Schönefeld Airport']\n"
     ]
    }
   ],
   "source": [
    "connecting_cities = [get_city(ap) for ap in connecting_airports]\n",
    "print('{} connecting cities found: '.format(len(connecting_cities)))\n",
    "print(list(connecting_cities))"
   ]
  }
 ],
 "metadata": {
  "kernelspec": {
   "display_name": "Python [default]",
   "language": "python",
   "name": "python3"
  },
  "language_info": {
   "codemirror_mode": {
    "name": "ipython",
    "version": 3
   },
   "file_extension": ".py",
   "mimetype": "text/x-python",
   "name": "python",
   "nbconvert_exporter": "python",
   "pygments_lexer": "ipython3",
   "version": "3.6.6"
  }
 },
 "nbformat": 4,
 "nbformat_minor": 2
}
